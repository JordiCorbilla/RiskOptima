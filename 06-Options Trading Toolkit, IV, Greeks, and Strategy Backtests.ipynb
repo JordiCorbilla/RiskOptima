{
 "cells": [
  {
   "cell_type": "code",
   "execution_count": null,
   "id": "b65f3ec6-a84b-4e82-b9e4-ca74cee2b3a7",
   "metadata": {},
   "outputs": [],
   "source": []
  }
 ],
 "metadata": {
  "kernelspec": {
   "display_name": "",
   "name": ""
  },
  "language_info": {
   "name": ""
  }
 },
 "nbformat": 4,
 "nbformat_minor": 5
}
