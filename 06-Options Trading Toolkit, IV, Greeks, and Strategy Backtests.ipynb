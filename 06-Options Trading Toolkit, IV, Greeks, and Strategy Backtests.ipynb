{
 "cells": [
  {
   "cell_type": "markdown",
   "id": "81d4ea30-ee14-4889-abb2-9d2132acbcb4",
   "metadata": {},
   "source": [
    "# Options Trading Toolkit: IV, Greeks, and Strategy Backtests"
   ]
  },
  {
   "cell_type": "code",
   "execution_count": 12,
   "id": "fd202fcb-ab7d-4286-8440-1348cfb785f0",
   "metadata": {
    "scrolled": true
   },
   "outputs": [
    {
     "name": "stdout",
     "output_type": "stream",
     "text": [
      "Requirement already satisfied: riskoptima in c:\\users\\jordi\\anaconda3\\lib\\site-packages (1.43.0)\n",
      "Collecting riskoptima\n",
      "  Downloading riskoptima-1.44.0-py3-none-any.whl.metadata (9.5 kB)\n",
      "Requirement already satisfied: matplotlib>=3.8.4 in c:\\users\\jordi\\anaconda3\\lib\\site-packages (from riskoptima) (3.8.4)\n",
      "Requirement already satisfied: numpy>=1.26.4 in c:\\users\\jordi\\anaconda3\\lib\\site-packages (from riskoptima) (1.26.4)\n",
      "Requirement already satisfied: pandas>=2.1.4 in c:\\users\\jordi\\anaconda3\\lib\\site-packages (from riskoptima) (2.1.4)\n",
      "Requirement already satisfied: scikit-learn>=1.5.1 in c:\\users\\jordi\\anaconda3\\lib\\site-packages (from riskoptima) (1.5.1)\n",
      "Requirement already satisfied: scipy>=1.13.1 in c:\\users\\jordi\\anaconda3\\lib\\site-packages (from riskoptima) (1.13.1)\n",
      "Requirement already satisfied: seaborn>=0.13.2 in c:\\users\\jordi\\anaconda3\\lib\\site-packages (from riskoptima) (0.13.2)\n",
      "Requirement already satisfied: squarify>=0.4.4 in c:\\users\\jordi\\anaconda3\\lib\\site-packages (from riskoptima) (0.4.4)\n",
      "Requirement already satisfied: statsmodels>=0.14.2 in c:\\users\\jordi\\anaconda3\\lib\\site-packages (from riskoptima) (0.14.2)\n",
      "Requirement already satisfied: xgboost>=2.1.3 in c:\\users\\jordi\\anaconda3\\lib\\site-packages (from riskoptima) (2.1.3)\n",
      "Requirement already satisfied: yfinance>=0.2.54 in c:\\users\\jordi\\anaconda3\\lib\\site-packages (from riskoptima) (0.2.54)\n",
      "Requirement already satisfied: contourpy>=1.0.1 in c:\\users\\jordi\\anaconda3\\lib\\site-packages (from matplotlib>=3.8.4->riskoptima) (1.2.0)\n",
      "Requirement already satisfied: cycler>=0.10 in c:\\users\\jordi\\anaconda3\\lib\\site-packages (from matplotlib>=3.8.4->riskoptima) (0.11.0)\n",
      "Requirement already satisfied: fonttools>=4.22.0 in c:\\users\\jordi\\anaconda3\\lib\\site-packages (from matplotlib>=3.8.4->riskoptima) (4.51.0)\n",
      "Requirement already satisfied: kiwisolver>=1.3.1 in c:\\users\\jordi\\anaconda3\\lib\\site-packages (from matplotlib>=3.8.4->riskoptima) (1.4.4)\n",
      "Requirement already satisfied: packaging>=20.0 in c:\\users\\jordi\\anaconda3\\lib\\site-packages (from matplotlib>=3.8.4->riskoptima) (23.2)\n",
      "Requirement already satisfied: pillow>=8 in c:\\users\\jordi\\anaconda3\\lib\\site-packages (from matplotlib>=3.8.4->riskoptima) (10.4.0)\n",
      "Requirement already satisfied: pyparsing>=2.3.1 in c:\\users\\jordi\\anaconda3\\lib\\site-packages (from matplotlib>=3.8.4->riskoptima) (3.1.2)\n",
      "Requirement already satisfied: python-dateutil>=2.7 in c:\\users\\jordi\\anaconda3\\lib\\site-packages (from matplotlib>=3.8.4->riskoptima) (2.9.0.post0)\n",
      "Requirement already satisfied: pytz>=2020.1 in c:\\users\\jordi\\anaconda3\\lib\\site-packages (from pandas>=2.1.4->riskoptima) (2024.1)\n",
      "Requirement already satisfied: tzdata>=2022.1 in c:\\users\\jordi\\anaconda3\\lib\\site-packages (from pandas>=2.1.4->riskoptima) (2023.3)\n",
      "Requirement already satisfied: joblib>=1.2.0 in c:\\users\\jordi\\anaconda3\\lib\\site-packages (from scikit-learn>=1.5.1->riskoptima) (1.4.2)\n",
      "Requirement already satisfied: threadpoolctl>=3.1.0 in c:\\users\\jordi\\anaconda3\\lib\\site-packages (from scikit-learn>=1.5.1->riskoptima) (3.5.0)\n",
      "Requirement already satisfied: patsy>=0.5.6 in c:\\users\\jordi\\anaconda3\\lib\\site-packages (from statsmodels>=0.14.2->riskoptima) (0.5.6)\n",
      "Requirement already satisfied: requests>=2.31 in c:\\users\\jordi\\anaconda3\\lib\\site-packages (from yfinance>=0.2.54->riskoptima) (2.32.2)\n",
      "Requirement already satisfied: multitasking>=0.0.7 in c:\\users\\jordi\\anaconda3\\lib\\site-packages (from yfinance>=0.2.54->riskoptima) (0.0.11)\n",
      "Requirement already satisfied: platformdirs>=2.0.0 in c:\\users\\jordi\\anaconda3\\lib\\site-packages (from yfinance>=0.2.54->riskoptima) (3.10.0)\n",
      "Requirement already satisfied: frozendict>=2.3.4 in c:\\users\\jordi\\anaconda3\\lib\\site-packages (from yfinance>=0.2.54->riskoptima) (2.4.2)\n",
      "Requirement already satisfied: peewee>=3.16.2 in c:\\users\\jordi\\anaconda3\\lib\\site-packages (from yfinance>=0.2.54->riskoptima) (3.17.8)\n",
      "Requirement already satisfied: beautifulsoup4>=4.11.1 in c:\\users\\jordi\\anaconda3\\lib\\site-packages (from yfinance>=0.2.54->riskoptima) (4.12.3)\n",
      "Requirement already satisfied: soupsieve>1.2 in c:\\users\\jordi\\anaconda3\\lib\\site-packages (from beautifulsoup4>=4.11.1->yfinance>=0.2.54->riskoptima) (2.5)\n",
      "Requirement already satisfied: six in c:\\users\\jordi\\anaconda3\\lib\\site-packages (from patsy>=0.5.6->statsmodels>=0.14.2->riskoptima) (1.16.0)\n",
      "Requirement already satisfied: charset-normalizer<4,>=2 in c:\\users\\jordi\\anaconda3\\lib\\site-packages (from requests>=2.31->yfinance>=0.2.54->riskoptima) (3.3.2)\n",
      "Requirement already satisfied: idna<4,>=2.5 in c:\\users\\jordi\\anaconda3\\lib\\site-packages (from requests>=2.31->yfinance>=0.2.54->riskoptima) (3.7)\n",
      "Requirement already satisfied: urllib3<3,>=1.21.1 in c:\\users\\jordi\\anaconda3\\lib\\site-packages (from requests>=2.31->yfinance>=0.2.54->riskoptima) (2.2.3)\n",
      "Requirement already satisfied: certifi>=2017.4.17 in c:\\users\\jordi\\anaconda3\\lib\\site-packages (from requests>=2.31->yfinance>=0.2.54->riskoptima) (2024.8.30)\n",
      "Downloading riskoptima-1.44.0-py3-none-any.whl (41 kB)\n",
      "Installing collected packages: riskoptima\n",
      "  Attempting uninstall: riskoptima\n",
      "    Found existing installation: riskoptima 1.43.0\n",
      "    Uninstalling riskoptima-1.43.0:\n",
      "      Successfully uninstalled riskoptima-1.43.0\n",
      "Successfully installed riskoptima-1.44.0\n"
     ]
    }
   ],
   "source": [
    "!pip install --upgrade riskoptima"
   ]
  },
  {
   "cell_type": "code",
   "execution_count": 1,
   "id": "46f5f5ef-7100-4dd3-9d70-9478ae7da891",
   "metadata": {},
   "outputs": [
    {
     "name": "stdout",
     "output_type": "stream",
     "text": [
      "1.45.0\n"
     ]
    }
   ],
   "source": [
    "import pandas as pd\n",
    "from riskoptima import RiskOptima\n",
    "\n",
    "import warnings\n",
    "warnings.filterwarnings(\n",
    "    \"ignore\", \n",
    "    category=FutureWarning, \n",
    "    message=\".*DataFrame.std with axis=None is deprecated.*\"\n",
    ")\n",
    "print(RiskOptima.VERSION)"
   ]
  },
  {
   "cell_type": "code",
   "execution_count": null,
   "id": "2f3dea53-8fff-4320-9292-b59112a7d9cf",
   "metadata": {},
   "outputs": [],
   "source": [
    "RiskOptima.implied_volatility_screener(symbol='AMZN')"
   ]
  },
  {
   "cell_type": "code",
   "execution_count": null,
   "id": "9e651c26-cfbf-42e9-97d7-98830d5366d3",
   "metadata": {},
   "outputs": [],
   "source": [
    "RiskOptima.straddle_backtester(symbol='AMZN', window_before=5, window_after=1)"
   ]
  },
  {
   "cell_type": "code",
   "execution_count": null,
   "id": "33782891-0c86-4a00-b8f7-afaaf5536c70",
   "metadata": {},
   "outputs": [],
   "source": [
    "RiskOptima.greeks_simulator(S=192.82, T_days=20, sigma=0.35, option_type='call')"
   ]
  },
  {
   "cell_type": "code",
   "execution_count": null,
   "id": "fe84bdd5-49df-4e9d-aef6-4497ad3c0a90",
   "metadata": {},
   "outputs": [],
   "source": []
  }
 ],
 "metadata": {
  "kernelspec": {
   "display_name": "Python 3 (ipykernel)",
   "language": "python",
   "name": "python3"
  },
  "language_info": {
   "codemirror_mode": {
    "name": "ipython",
    "version": 3
   },
   "file_extension": ".py",
   "mimetype": "text/x-python",
   "name": "python",
   "nbconvert_exporter": "python",
   "pygments_lexer": "ipython3",
   "version": "3.12.7"
  }
 },
 "nbformat": 4,
 "nbformat_minor": 5
}
