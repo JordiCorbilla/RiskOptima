{
 "cells": [
  {
   "cell_type": "markdown",
   "id": "0828ef34-effa-45e7-bb05-021894974a59",
   "metadata": {},
   "source": [
    "# Monte Carlo Portfolio Optimisation with RiskOptima"
   ]
  },
  {
   "cell_type": "code",
   "execution_count": 2,
   "id": "61d75cfc-c602-4678-82eb-26ccc36b02d6",
   "metadata": {},
   "outputs": [],
   "source": [
    "import pandas as pd\n",
    "\n",
    "# Define your current porfolio with your weights and company names\n",
    "asset_data = [\n",
    "    ('MO',    0.04, 'Altria Group Inc.'),\n",
    "    ('NWN',   0.14, 'Northwest Natural Gas'),\n",
    "    ('BKH',   0.01, 'Black Hills Corp.'),\n",
    "    ('ED',    0.01, 'Con Edison'),\n",
    "    ('PEP',   0.09, 'PepsiCo Inc.'),\n",
    "    ('NFG',   0.16, 'National Fuel Gas'),\n",
    "    ('KO',    0.06, 'Coca-Cola Company'),\n",
    "    ('FRT',   0.28, 'Federal Realty Inv. Trust'),\n",
    "    ('GPC',   0.16, 'Genuine Parts Co.'),\n",
    "    ('MSEX',  0.05, 'Middlesex Water Co.')\n",
    "]\n",
    "\n",
    "# Convert the list into a DataFrame with appropriate column names\n",
    "asset_table = pd.DataFrame(asset_data, columns=['Asset', 'Weight', 'Label'])"
   ]
  },
  {
   "cell_type": "code",
   "execution_count": null,
   "id": "60378ea3-568b-4d49-b630-9a80993fb2d7",
   "metadata": {},
   "outputs": [],
   "source": [
    "import riskoptima as RiskOptima\n",
    "\n",
    "start_date = '2024-01-01'\n",
    "end_date = RiskOptima.get_previous_working_day()\n",
    "\n",
    "RiskOptima.plot_efficient_frontier_from_table(\n",
    "    asset_table,\n",
    "    start_date=start_date,\n",
    "    end_date=end_date,\n",
    "    risk_free_rate=0.05,\n",
    "    num_portfolios=10000,\n",
    "    market='SPY',\n",
    "    set_ticks=False,\n",
    "    x_pos_table=1.15,    # Position for the weight table on the plot\n",
    "    y_pos_table=0.52,    # Position for the weight table on the plot\n",
    "    title=f'Efficient Frontier - Monte Carlo Simulation {start_date} to {end_date}'\n",
    ")"
   ]
  }
 ],
 "metadata": {
  "kernelspec": {
   "display_name": "Python 3 (ipykernel)",
   "language": "python",
   "name": "python3"
  },
  "language_info": {
   "codemirror_mode": {
    "name": "ipython",
    "version": 3
   },
   "file_extension": ".py",
   "mimetype": "text/x-python",
   "name": "python",
   "nbconvert_exporter": "python",
   "pygments_lexer": "ipython3",
   "version": "3.12.7"
  }
 },
 "nbformat": 4,
 "nbformat_minor": 5
}
