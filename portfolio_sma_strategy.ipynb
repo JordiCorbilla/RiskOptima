{
 "cells": [
  {
   "cell_type": "code",
   "execution_count": 1,
   "id": "7569c4d3-d67b-4476-a445-c3fd6eff510b",
   "metadata": {},
   "outputs": [
    {
     "name": "stdout",
     "output_type": "stream",
     "text": [
      "Requirement already satisfied: riskoptima in c:\\users\\jordi\\anaconda3\\lib\\site-packages (1.37.0)\n",
      "Requirement already satisfied: matplotlib>=3.8.4 in c:\\users\\jordi\\anaconda3\\lib\\site-packages (from riskoptima) (3.8.4)\n",
      "Requirement already satisfied: numpy>=1.26.4 in c:\\users\\jordi\\anaconda3\\lib\\site-packages (from riskoptima) (1.26.4)\n",
      "Requirement already satisfied: pandas>=2.1.4 in c:\\users\\jordi\\anaconda3\\lib\\site-packages (from riskoptima) (2.1.4)\n",
      "Requirement already satisfied: scikit-learn>=1.5.1 in c:\\users\\jordi\\anaconda3\\lib\\site-packages (from riskoptima) (1.5.1)\n",
      "Requirement already satisfied: scipy>=1.13.1 in c:\\users\\jordi\\anaconda3\\lib\\site-packages (from riskoptima) (1.13.1)\n",
      "Requirement already satisfied: seaborn>=0.13.2 in c:\\users\\jordi\\anaconda3\\lib\\site-packages (from riskoptima) (0.13.2)\n",
      "Requirement already satisfied: squarify>=0.4.4 in c:\\users\\jordi\\anaconda3\\lib\\site-packages (from riskoptima) (0.4.4)\n",
      "Requirement already satisfied: statsmodels>=0.14.2 in c:\\users\\jordi\\anaconda3\\lib\\site-packages (from riskoptima) (0.14.2)\n",
      "Requirement already satisfied: xgboost>=2.1.3 in c:\\users\\jordi\\anaconda3\\lib\\site-packages (from riskoptima) (2.1.3)\n",
      "Requirement already satisfied: yfinance>=0.2.54 in c:\\users\\jordi\\anaconda3\\lib\\site-packages (from riskoptima) (0.2.54)\n",
      "Requirement already satisfied: contourpy>=1.0.1 in c:\\users\\jordi\\anaconda3\\lib\\site-packages (from matplotlib>=3.8.4->riskoptima) (1.2.0)\n",
      "Requirement already satisfied: cycler>=0.10 in c:\\users\\jordi\\anaconda3\\lib\\site-packages (from matplotlib>=3.8.4->riskoptima) (0.11.0)\n",
      "Requirement already satisfied: fonttools>=4.22.0 in c:\\users\\jordi\\anaconda3\\lib\\site-packages (from matplotlib>=3.8.4->riskoptima) (4.51.0)\n",
      "Requirement already satisfied: kiwisolver>=1.3.1 in c:\\users\\jordi\\anaconda3\\lib\\site-packages (from matplotlib>=3.8.4->riskoptima) (1.4.4)\n",
      "Requirement already satisfied: packaging>=20.0 in c:\\users\\jordi\\anaconda3\\lib\\site-packages (from matplotlib>=3.8.4->riskoptima) (23.2)\n",
      "Requirement already satisfied: pillow>=8 in c:\\users\\jordi\\anaconda3\\lib\\site-packages (from matplotlib>=3.8.4->riskoptima) (10.4.0)\n",
      "Requirement already satisfied: pyparsing>=2.3.1 in c:\\users\\jordi\\anaconda3\\lib\\site-packages (from matplotlib>=3.8.4->riskoptima) (3.1.2)\n",
      "Requirement already satisfied: python-dateutil>=2.7 in c:\\users\\jordi\\anaconda3\\lib\\site-packages (from matplotlib>=3.8.4->riskoptima) (2.9.0.post0)\n",
      "Requirement already satisfied: pytz>=2020.1 in c:\\users\\jordi\\anaconda3\\lib\\site-packages (from pandas>=2.1.4->riskoptima) (2024.1)\n",
      "Requirement already satisfied: tzdata>=2022.1 in c:\\users\\jordi\\anaconda3\\lib\\site-packages (from pandas>=2.1.4->riskoptima) (2023.3)\n",
      "Requirement already satisfied: joblib>=1.2.0 in c:\\users\\jordi\\anaconda3\\lib\\site-packages (from scikit-learn>=1.5.1->riskoptima) (1.4.2)\n",
      "Requirement already satisfied: threadpoolctl>=3.1.0 in c:\\users\\jordi\\anaconda3\\lib\\site-packages (from scikit-learn>=1.5.1->riskoptima) (3.5.0)\n",
      "Requirement already satisfied: patsy>=0.5.6 in c:\\users\\jordi\\anaconda3\\lib\\site-packages (from statsmodels>=0.14.2->riskoptima) (0.5.6)\n",
      "Requirement already satisfied: requests>=2.31 in c:\\users\\jordi\\anaconda3\\lib\\site-packages (from yfinance>=0.2.54->riskoptima) (2.32.2)\n",
      "Requirement already satisfied: multitasking>=0.0.7 in c:\\users\\jordi\\anaconda3\\lib\\site-packages (from yfinance>=0.2.54->riskoptima) (0.0.11)\n",
      "Requirement already satisfied: platformdirs>=2.0.0 in c:\\users\\jordi\\anaconda3\\lib\\site-packages (from yfinance>=0.2.54->riskoptima) (3.10.0)\n",
      "Requirement already satisfied: frozendict>=2.3.4 in c:\\users\\jordi\\anaconda3\\lib\\site-packages (from yfinance>=0.2.54->riskoptima) (2.4.2)\n",
      "Requirement already satisfied: peewee>=3.16.2 in c:\\users\\jordi\\anaconda3\\lib\\site-packages (from yfinance>=0.2.54->riskoptima) (3.17.8)\n",
      "Requirement already satisfied: beautifulsoup4>=4.11.1 in c:\\users\\jordi\\anaconda3\\lib\\site-packages (from yfinance>=0.2.54->riskoptima) (4.12.3)\n",
      "Requirement already satisfied: soupsieve>1.2 in c:\\users\\jordi\\anaconda3\\lib\\site-packages (from beautifulsoup4>=4.11.1->yfinance>=0.2.54->riskoptima) (2.5)\n",
      "Requirement already satisfied: six in c:\\users\\jordi\\anaconda3\\lib\\site-packages (from patsy>=0.5.6->statsmodels>=0.14.2->riskoptima) (1.16.0)\n",
      "Requirement already satisfied: charset-normalizer<4,>=2 in c:\\users\\jordi\\anaconda3\\lib\\site-packages (from requests>=2.31->yfinance>=0.2.54->riskoptima) (3.3.2)\n",
      "Requirement already satisfied: idna<4,>=2.5 in c:\\users\\jordi\\anaconda3\\lib\\site-packages (from requests>=2.31->yfinance>=0.2.54->riskoptima) (3.7)\n",
      "Requirement already satisfied: urllib3<3,>=1.21.1 in c:\\users\\jordi\\anaconda3\\lib\\site-packages (from requests>=2.31->yfinance>=0.2.54->riskoptima) (2.2.3)\n",
      "Requirement already satisfied: certifi>=2017.4.17 in c:\\users\\jordi\\anaconda3\\lib\\site-packages (from requests>=2.31->yfinance>=0.2.54->riskoptima) (2024.8.30)\n"
     ]
    }
   ],
   "source": [
    "!pip install --upgrade riskoptima"
   ]
  },
  {
   "cell_type": "code",
   "execution_count": 1,
   "id": "d92129c5-1590-455a-a2b9-1fccffb4fe23",
   "metadata": {},
   "outputs": [
    {
     "name": "stdout",
     "output_type": "stream",
     "text": [
      "  Asset  Weight                      Label     MarketCap  Portfolio\n",
      "0    MO    0.04          Altria Group Inc.  1.100000e+11     4000.0\n",
      "1   NWN    0.14      Northwest Natural Gas  1.800000e+09    14000.0\n",
      "2   BKH    0.01          Black Hills Corp.  4.500000e+09     1000.0\n",
      "3    ED    0.01                 Con Edison  3.000000e+10     1000.0\n",
      "4   PEP    0.09               PepsiCo Inc.  2.550000e+11     9000.0\n",
      "5   NFG    0.16          National Fuel Gas  5.600000e+09    16000.0\n",
      "6    KO    0.06          Coca-Cola Company  2.750000e+11     6000.0\n",
      "7   FRT    0.28  Federal Realty Inv. Trust  9.800000e+09    28000.0\n",
      "8   GPC    0.16          Genuine Parts Co.  2.530000e+10    16000.0\n",
      "9  MSEX    0.05        Middlesex Water Co.  2.400000e+09     5000.0\n",
      "1.39.0\n"
     ]
    }
   ],
   "source": [
    "import pandas as pd\n",
    "from riskoptima import RiskOptima\n",
    "\n",
    "import warnings\n",
    "warnings.filterwarnings(\n",
    "    \"ignore\", \n",
    "    category=FutureWarning, \n",
    "    message=\".*DataFrame.std with axis=None is deprecated.*\"\n",
    ")\n",
    "\n",
    "# Define your current porfolio with your weights and company names\n",
    "asset_data = [\n",
    "    {\"Asset\": \"MO\",    \"Weight\": 0.04, \"Label\": \"Altria Group Inc.\",       \"MarketCap\": 110.0e9},\n",
    "    {\"Asset\": \"NWN\",   \"Weight\": 0.14, \"Label\": \"Northwest Natural Gas\",   \"MarketCap\": 1.8e9},\n",
    "    {\"Asset\": \"BKH\",   \"Weight\": 0.01, \"Label\": \"Black Hills Corp.\",         \"MarketCap\": 4.5e9},\n",
    "    {\"Asset\": \"ED\",    \"Weight\": 0.01, \"Label\": \"Con Edison\",                \"MarketCap\": 30.0e9},\n",
    "    {\"Asset\": \"PEP\",   \"Weight\": 0.09, \"Label\": \"PepsiCo Inc.\",              \"MarketCap\": 255.0e9},\n",
    "    {\"Asset\": \"NFG\",   \"Weight\": 0.16, \"Label\": \"National Fuel Gas\",         \"MarketCap\": 5.6e9},\n",
    "    {\"Asset\": \"KO\",    \"Weight\": 0.06, \"Label\": \"Coca-Cola Company\",         \"MarketCap\": 275.0e9},\n",
    "    {\"Asset\": \"FRT\",   \"Weight\": 0.28, \"Label\": \"Federal Realty Inv. Trust\", \"MarketCap\": 9.8e9},\n",
    "    {\"Asset\": \"GPC\",   \"Weight\": 0.16, \"Label\": \"Genuine Parts Co.\",         \"MarketCap\": 25.3e9},\n",
    "    {\"Asset\": \"MSEX\",  \"Weight\": 0.05, \"Label\": \"Middlesex Water Co.\",       \"MarketCap\": 2.4e9}\n",
    "]\n",
    "asset_table = pd.DataFrame(asset_data)\n",
    "\n",
    "capital = 100_000\n",
    "\n",
    "asset_table['Portfolio'] = asset_table['Weight'] * capital\n",
    "\n",
    "ANALYSIS_START_DATE = RiskOptima.get_previous_year_date(RiskOptima.get_previous_working_day(), 1)\n",
    "ANALYSIS_END_DATE   = RiskOptima.get_previous_working_day()\n",
    "BENCHMARK_INDEX     = 'SPY'\n",
    "RISK_FREE_RATE      = 0.05\n",
    "NUMBER_OF_WEIGHTS   = 10_000\n",
    "NUMBER_OF_MC_RUNS   = 1_000\n",
    "\n",
    "print(asset_table)\n",
    "print(RiskOptima.VERSION)"
   ]
  },
  {
   "cell_type": "code",
   "execution_count": 3,
   "id": "2d34745b-022e-4e6a-b9a4-8fe08d1eebb9",
   "metadata": {},
   "outputs": [
    {
     "name": "stdout",
     "output_type": "stream",
     "text": [
      "YF.download() has changed argument auto_adjust default to True\n"
     ]
    },
    {
     "name": "stderr",
     "output_type": "stream",
     "text": [
      "C:\\repo\\portfolio_risk_kit\\riskoptima\\riskoptima.py:3484: SettingWithCopyWarning: \n",
      "A value is trying to be set on a copy of a slice from a DataFrame\n",
      "\n",
      "See the caveats in the documentation: https://pandas.pydata.org/pandas-docs/stable/user_guide/indexing.html#returning-a-view-versus-a-copy\n",
      "  df['Signal'][50:] = (\n"
     ]
    },
    {
     "ename": "ValueError",
     "evalue": "The truth value of a Series is ambiguous. Use a.empty, a.bool(), a.item(), a.any() or a.all().",
     "output_type": "error",
     "traceback": [
      "\u001b[1;31m---------------------------------------------------------------------------\u001b[0m",
      "\u001b[1;31mValueError\u001b[0m                                Traceback (most recent call last)",
      "\u001b[1;32m~\\AppData\\Local\\Temp\\ipykernel_53584\\2070570326.py\u001b[0m in \u001b[0;36m?\u001b[1;34m()\u001b[0m\n\u001b[0;32m      1\u001b[0m \u001b[1;31m# Run for a single ticker\u001b[0m\u001b[1;33m\u001b[0m\u001b[1;33m\u001b[0m\u001b[0m\n\u001b[1;32m----> 2\u001b[1;33m \u001b[0mRiskOptima\u001b[0m\u001b[1;33m.\u001b[0m\u001b[0mrun_and_plot_sma_strategy\u001b[0m\u001b[1;33m(\u001b[0m\u001b[1;34m\"SPY\"\u001b[0m\u001b[1;33m,\u001b[0m \u001b[0mANALYSIS_START_DATE\u001b[0m\u001b[1;33m,\u001b[0m \u001b[0mANALYSIS_END_DATE\u001b[0m\u001b[1;33m,\u001b[0m \u001b[0mstop_loss\u001b[0m\u001b[1;33m=\u001b[0m\u001b[1;36m0.05\u001b[0m\u001b[1;33m,\u001b[0m \u001b[0mtake_profit\u001b[0m\u001b[1;33m=\u001b[0m\u001b[1;36m0.10\u001b[0m\u001b[1;33m)\u001b[0m\u001b[1;33m\u001b[0m\u001b[1;33m\u001b[0m\u001b[0m\n\u001b[0m\u001b[0;32m      3\u001b[0m \u001b[1;33m\u001b[0m\u001b[0m\n\u001b[0;32m      4\u001b[0m \u001b[1;31m# Run for multiple tickers (equal weights)\u001b[0m\u001b[1;33m\u001b[0m\u001b[1;33m\u001b[0m\u001b[0m\n\u001b[0;32m      5\u001b[0m \u001b[0mRiskOptima\u001b[0m\u001b[1;33m.\u001b[0m\u001b[0mrun_and_plot_sma_strategy\u001b[0m\u001b[1;33m(\u001b[0m\u001b[1;33m[\u001b[0m\u001b[1;34m\"SPY\"\u001b[0m\u001b[1;33m,\u001b[0m \u001b[1;34m\"AAPL\"\u001b[0m\u001b[1;33m,\u001b[0m \u001b[1;34m\"KO\"\u001b[0m\u001b[1;33m]\u001b[0m\u001b[1;33m,\u001b[0m \u001b[0mANALYSIS_START_DATE\u001b[0m\u001b[1;33m,\u001b[0m \u001b[0mANALYSIS_END_DATE\u001b[0m\u001b[1;33m,\u001b[0m \u001b[0mstop_loss\u001b[0m\u001b[1;33m=\u001b[0m\u001b[1;36m0.05\u001b[0m\u001b[1;33m,\u001b[0m \u001b[0mtake_profit\u001b[0m\u001b[1;33m=\u001b[0m\u001b[1;36m0.10\u001b[0m\u001b[1;33m)\u001b[0m\u001b[1;33m\u001b[0m\u001b[1;33m\u001b[0m\u001b[0m\n",
      "\u001b[1;32mC:\\repo\\portfolio_risk_kit\\riskoptima\\riskoptima.py\u001b[0m in \u001b[0;36m?\u001b[1;34m(tickers, start_date, end_date, stop_loss, take_profit)\u001b[0m\n\u001b[0;32m   3627\u001b[0m         \u001b[1;32melse\u001b[0m\u001b[1;33m:\u001b[0m\u001b[1;33m\u001b[0m\u001b[1;33m\u001b[0m\u001b[0m\n\u001b[0;32m   3628\u001b[0m             \u001b[1;32mraise\u001b[0m \u001b[0mValueError\u001b[0m\u001b[1;33m(\u001b[0m\u001b[1;34m\"Tickers must be a string, list, or DataFrame.\"\u001b[0m\u001b[1;33m)\u001b[0m\u001b[1;33m\u001b[0m\u001b[1;33m\u001b[0m\u001b[0m\n\u001b[0;32m   3629\u001b[0m \u001b[1;33m\u001b[0m\u001b[0m\n\u001b[0;32m   3630\u001b[0m         \u001b[1;31m# Run portfolio strategy\u001b[0m\u001b[1;33m\u001b[0m\u001b[1;33m\u001b[0m\u001b[0m\n\u001b[1;32m-> 3631\u001b[1;33m         portfolio_trades = RiskOptima.run_strategy_on_portfolio(\n\u001b[0m\u001b[0;32m   3632\u001b[0m             \u001b[0masset_table\u001b[0m\u001b[1;33m,\u001b[0m \u001b[0mstart\u001b[0m\u001b[1;33m=\u001b[0m\u001b[0mstart_date\u001b[0m\u001b[1;33m,\u001b[0m \u001b[0mend\u001b[0m\u001b[1;33m=\u001b[0m\u001b[0mend_date\u001b[0m\u001b[1;33m,\u001b[0m\u001b[1;33m\u001b[0m\u001b[1;33m\u001b[0m\u001b[0m\n\u001b[0;32m   3633\u001b[0m             \u001b[0mstop_loss\u001b[0m\u001b[1;33m=\u001b[0m\u001b[0mstop_loss\u001b[0m\u001b[1;33m,\u001b[0m \u001b[0mtake_profit\u001b[0m\u001b[1;33m=\u001b[0m\u001b[0mtake_profit\u001b[0m\u001b[1;33m\u001b[0m\u001b[1;33m\u001b[0m\u001b[0m\n\u001b[0;32m   3634\u001b[0m         \u001b[1;33m)\u001b[0m\u001b[1;33m\u001b[0m\u001b[1;33m\u001b[0m\u001b[0m\n",
      "\u001b[1;32mC:\\repo\\portfolio_risk_kit\\riskoptima\\riskoptima.py\u001b[0m in \u001b[0;36m?\u001b[1;34m(asset_table, start, end, stop_loss, take_profit)\u001b[0m\n\u001b[0;32m   3533\u001b[0m \u001b[1;33m\u001b[0m\u001b[0m\n\u001b[0;32m   3534\u001b[0m         \u001b[1;32mfor\u001b[0m \u001b[0m_\u001b[0m\u001b[1;33m,\u001b[0m \u001b[0mrow\u001b[0m \u001b[1;32min\u001b[0m \u001b[0masset_table\u001b[0m\u001b[1;33m.\u001b[0m\u001b[0miterrows\u001b[0m\u001b[1;33m(\u001b[0m\u001b[1;33m)\u001b[0m\u001b[1;33m:\u001b[0m\u001b[1;33m\u001b[0m\u001b[1;33m\u001b[0m\u001b[0m\n\u001b[0;32m   3535\u001b[0m             \u001b[0mticker\u001b[0m \u001b[1;33m=\u001b[0m \u001b[0mrow\u001b[0m\u001b[1;33m[\u001b[0m\u001b[1;34m'Asset'\u001b[0m\u001b[1;33m]\u001b[0m\u001b[1;33m\u001b[0m\u001b[1;33m\u001b[0m\u001b[0m\n\u001b[0;32m   3536\u001b[0m             \u001b[0mweight\u001b[0m \u001b[1;33m=\u001b[0m \u001b[0mrow\u001b[0m\u001b[1;33m[\u001b[0m\u001b[1;34m'Weight'\u001b[0m\u001b[1;33m]\u001b[0m\u001b[1;33m\u001b[0m\u001b[1;33m\u001b[0m\u001b[0m\n\u001b[1;32m-> 3537\u001b[1;33m             trades_df = RiskOptima.run_sma_strategy_with_risk(\n\u001b[0m\u001b[0;32m   3538\u001b[0m                 \u001b[0mticker\u001b[0m\u001b[1;33m,\u001b[0m \u001b[0mstart\u001b[0m\u001b[1;33m,\u001b[0m \u001b[0mend\u001b[0m\u001b[1;33m,\u001b[0m\u001b[1;33m\u001b[0m\u001b[1;33m\u001b[0m\u001b[0m\n\u001b[0;32m   3539\u001b[0m                 \u001b[0mstop_loss\u001b[0m\u001b[1;33m=\u001b[0m\u001b[0mstop_loss\u001b[0m\u001b[1;33m,\u001b[0m \u001b[0mtake_profit\u001b[0m\u001b[1;33m=\u001b[0m\u001b[0mtake_profit\u001b[0m\u001b[1;33m\u001b[0m\u001b[1;33m\u001b[0m\u001b[0m\n\u001b[0;32m   3540\u001b[0m             \u001b[1;33m)\u001b[0m\u001b[1;33m\u001b[0m\u001b[1;33m\u001b[0m\u001b[0m\n",
      "\u001b[1;32mC:\\repo\\portfolio_risk_kit\\riskoptima\\riskoptima.py\u001b[0m in \u001b[0;36m?\u001b[1;34m(ticker, start, end, stop_loss, take_profit)\u001b[0m\n\u001b[0;32m   3497\u001b[0m         \u001b[1;32mfor\u001b[0m \u001b[0mexit_date\u001b[0m\u001b[1;33m,\u001b[0m \u001b[0mrow\u001b[0m \u001b[1;32min\u001b[0m \u001b[0mdf\u001b[0m\u001b[1;33m.\u001b[0m\u001b[0miterrows\u001b[0m\u001b[1;33m(\u001b[0m\u001b[1;33m)\u001b[0m\u001b[1;33m:\u001b[0m\u001b[1;33m\u001b[0m\u001b[1;33m\u001b[0m\u001b[0m\n\u001b[0;32m   3498\u001b[0m             \u001b[0mprice\u001b[0m \u001b[1;33m=\u001b[0m \u001b[0mrow\u001b[0m\u001b[1;33m[\u001b[0m\u001b[1;34m'Close'\u001b[0m\u001b[1;33m]\u001b[0m\u001b[1;33m\u001b[0m\u001b[1;33m\u001b[0m\u001b[0m\n\u001b[0;32m   3499\u001b[0m             \u001b[0msignal\u001b[0m \u001b[1;33m=\u001b[0m \u001b[0mrow\u001b[0m\u001b[1;33m[\u001b[0m\u001b[1;34m'Signal'\u001b[0m\u001b[1;33m]\u001b[0m\u001b[1;33m\u001b[0m\u001b[1;33m\u001b[0m\u001b[0m\n\u001b[0;32m   3500\u001b[0m \u001b[1;33m\u001b[0m\u001b[0m\n\u001b[1;32m-> 3501\u001b[1;33m             \u001b[1;32mif\u001b[0m \u001b[0mposition\u001b[0m \u001b[1;32mis\u001b[0m \u001b[1;32mNone\u001b[0m \u001b[1;32mand\u001b[0m \u001b[0msignal\u001b[0m \u001b[1;33m==\u001b[0m \u001b[1;36m1\u001b[0m\u001b[1;33m:\u001b[0m\u001b[1;33m\u001b[0m\u001b[1;33m\u001b[0m\u001b[0m\n\u001b[0m\u001b[0;32m   3502\u001b[0m                 \u001b[0mposition\u001b[0m \u001b[1;33m=\u001b[0m \u001b[1;34m'long'\u001b[0m\u001b[1;33m\u001b[0m\u001b[1;33m\u001b[0m\u001b[0m\n\u001b[0;32m   3503\u001b[0m                 \u001b[0mentry_price\u001b[0m \u001b[1;33m=\u001b[0m \u001b[0mprice\u001b[0m\u001b[1;33m\u001b[0m\u001b[1;33m\u001b[0m\u001b[0m\n\u001b[0;32m   3504\u001b[0m                 \u001b[0mentry_date\u001b[0m \u001b[1;33m=\u001b[0m \u001b[0mexit_date\u001b[0m\u001b[1;33m\u001b[0m\u001b[1;33m\u001b[0m\u001b[0m\n",
      "\u001b[1;32m~\\anaconda3\\Lib\\site-packages\\pandas\\core\\generic.py\u001b[0m in \u001b[0;36m?\u001b[1;34m(self)\u001b[0m\n\u001b[0;32m   1517\u001b[0m     \u001b[1;33m@\u001b[0m\u001b[0mfinal\u001b[0m\u001b[1;33m\u001b[0m\u001b[1;33m\u001b[0m\u001b[0m\n\u001b[0;32m   1518\u001b[0m     \u001b[1;32mdef\u001b[0m \u001b[0m__nonzero__\u001b[0m\u001b[1;33m(\u001b[0m\u001b[0mself\u001b[0m\u001b[1;33m)\u001b[0m \u001b[1;33m->\u001b[0m \u001b[0mNoReturn\u001b[0m\u001b[1;33m:\u001b[0m\u001b[1;33m\u001b[0m\u001b[1;33m\u001b[0m\u001b[0m\n\u001b[1;32m-> 1519\u001b[1;33m         raise ValueError(\n\u001b[0m\u001b[0;32m   1520\u001b[0m             \u001b[1;33mf\"\u001b[0m\u001b[1;33mThe truth value of a \u001b[0m\u001b[1;33m{\u001b[0m\u001b[0mtype\u001b[0m\u001b[1;33m(\u001b[0m\u001b[0mself\u001b[0m\u001b[1;33m)\u001b[0m\u001b[1;33m.\u001b[0m\u001b[0m__name__\u001b[0m\u001b[1;33m}\u001b[0m\u001b[1;33m is ambiguous. \u001b[0m\u001b[1;33m\"\u001b[0m\u001b[1;33m\u001b[0m\u001b[1;33m\u001b[0m\u001b[0m\n\u001b[0;32m   1521\u001b[0m             \u001b[1;34m\"Use a.empty, a.bool(), a.item(), a.any() or a.all().\"\u001b[0m\u001b[1;33m\u001b[0m\u001b[1;33m\u001b[0m\u001b[0m\n\u001b[0;32m   1522\u001b[0m         \u001b[1;33m)\u001b[0m\u001b[1;33m\u001b[0m\u001b[1;33m\u001b[0m\u001b[0m\n",
      "\u001b[1;31mValueError\u001b[0m: The truth value of a Series is ambiguous. Use a.empty, a.bool(), a.item(), a.any() or a.all()."
     ]
    }
   ],
   "source": [
    "# Run for a single ticker\n",
    "RiskOptima.run_and_plot_sma_strategy(\"SPY\", ANALYSIS_START_DATE, ANALYSIS_END_DATE, stop_loss=0.05, take_profit=0.10)\n",
    "\n",
    "# Run for multiple tickers (equal weights)\n",
    "RiskOptima.run_and_plot_sma_strategy([\"SPY\", \"AAPL\", \"KO\"], ANALYSIS_START_DATE, ANALYSIS_END_DATE, stop_loss=0.05, take_profit=0.10)\n",
    "\n",
    "# Run using your custom portfolio DataFrame (with weights)\n",
    "RiskOptima.run_and_plot_sma_strategy(asset_table, ANALYSIS_START_DATE, ANALYSIS_END_DATE, stop_loss=0.05, take_profit=0.10)"
   ]
  },
  {
   "cell_type": "code",
   "execution_count": null,
   "id": "e179c027-49b1-476c-9263-5f7234c49a09",
   "metadata": {},
   "outputs": [],
   "source": []
  }
 ],
 "metadata": {
  "kernelspec": {
   "display_name": "Python 3 (ipykernel)",
   "language": "python",
   "name": "python3"
  },
  "language_info": {
   "codemirror_mode": {
    "name": "ipython",
    "version": 3
   },
   "file_extension": ".py",
   "mimetype": "text/x-python",
   "name": "python",
   "nbconvert_exporter": "python",
   "pygments_lexer": "ipython3",
   "version": "3.12.7"
  }
 },
 "nbformat": 4,
 "nbformat_minor": 5
}
